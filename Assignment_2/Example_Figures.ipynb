{
 "cells": [
  {
   "cell_type": "markdown",
   "metadata": {},
   "source": [
    "# Example Figures\n",
    "\n",
    "Much like in the writing of scientific reports/papers, we expect you to report figures in a comprehensive and standardized manner.\n",
    "The requirements for a figure in the Data Mining course are:\n",
    "- Every graph should have labeled axis. So the X-Axis might be labeled with \"Time\" and the Y-Axis might be labeled with \"Velocity\"\n",
    "- Every figure or table should be supplied with an adequate and comprehensive figure description.\n",
    "    - Make sure to describe what can be seen in the figure. What data is visualized? If there are multiple graphs or colored dots used, what do they signify? A figure and its description must be self-explanatory without other (textual) context.\n",
    "    - If there are different colours used within a plot, use a legend to indicate which colour indicates what.\n",
    "    - 0.25 points will be deducted per figure with missing, or severely lacking, figure descriptions, axis, and/or legends (when applicable). (up to a maximum of 1 per assignment)\n",
    "    \n",
    "To illustrate this, we provide two simple example figures which adhere to the guidelines."
   ]
  },
  {
   "cell_type": "code",
   "execution_count": 4,
   "metadata": {},
   "outputs": [
    {
     "data": {
      "image/png": "[encoded data removed]",
      "text/plain": [
       "<Figure size 432x288 with 1 Axes>"
      ]
     },
     "metadata": {},
     "output_type": "display_data"
    },
    {
     "name": "stdout",
     "output_type": "stream",
     "text": [
      "Figure 1: A scatterplot of variables A (on the X-axis) vs. B (on the Y-axis)\n"
     ]
    }
   ],
   "source": [
    "import matplotlib.pyplot as plt\n",
    "import numpy as np\n",
    "%matplotlib inline\n",
    "\n",
    "X = np.random.randn(200,2)\n",
    "\n",
    "plt.scatter(X[:,0],X[:,1])\n",
    "plt.xlabel('A')\n",
    "plt.ylabel('B')\n",
    "\n",
    "plt.show()\n",
    "print('Figure 1: A scatterplot of variables A (on the X-axis) vs. B (on the Y-axis)')\n"
   ]
  },
  {
   "cell_type": "code",
   "execution_count": 2,
   "metadata": {},
   "outputs": [
    {
     "data": {
      "text/plain": [
       "array([-0.20690842,  0.20011953,  0.37006236, -0.58445303,  0.54451224,\n",
       "       -0.39185625,  0.35870932, -0.06293215,  0.84598507, -1.21073759,\n",
       "       -1.38757815, -1.22992865, -0.08005019,  0.2759495 ,  1.39690722,\n",
       "       -0.83480666, -0.9833215 , -2.50811252, -0.00833823, -0.17325534,\n",
       "       -0.41309793, -0.73988931, -0.72534092,  0.70933881,  0.75911052,\n",
       "        0.25155531,  1.235218  ,  0.40530719, -0.11451484, -0.82658651,\n",
       "       -0.45060034,  1.37325335, -1.43204485,  0.01490968, -0.65781809,\n",
       "        0.60610879,  0.45139918,  1.667433  , -0.2459744 ,  0.06954594,\n",
       "       -1.33153444, -0.1003636 ,  1.45429322,  0.51252856,  1.50009409,\n",
       "       -1.76664511, -0.17854983, -2.25418906,  0.71352729, -0.02923233,\n",
       "        0.09719515, -0.40113947,  0.28440167,  1.50200621, -1.57803832,\n",
       "        0.2385667 ,  0.38892618,  0.46404749,  0.28599397, -0.95403833,\n",
       "       -0.6551965 ,  0.92005816,  0.91212909, -1.05292778, -0.15191814,\n",
       "        0.04672996,  0.41668458,  1.05057449,  1.22015262,  0.19539657,\n",
       "        0.60268107,  2.06708248, -0.15639328, -1.32113868, -1.69847318,\n",
       "       -0.13131002, -0.92021056,  1.25591443,  1.75102121, -2.35089309,\n",
       "       -1.25221451, -1.43019724,  1.27536227, -0.94563622, -0.39028041,\n",
       "       -0.74434721, -0.01577721,  1.40018059, -1.28035623,  0.55845717,\n",
       "        1.34096523,  1.53606102, -1.1554046 ,  1.22016149,  1.37572314,\n",
       "       -0.02675365, -1.63857909, -1.15974361,  1.0482238 , -1.45256258,\n",
       "        0.32802576,  0.12211079, -1.59675026, -0.83139379, -0.2458247 ,\n",
       "        0.58775015, -0.10953678,  0.05831079,  1.30137377, -0.14595462,\n",
       "       -1.18677623, -0.82742021, -1.43433845,  0.04462031, -0.40473934,\n",
       "        2.00270808,  0.13179808, -0.63592778, -0.65140823, -0.35688831,\n",
       "        0.20994436,  0.574685  , -1.03524279, -2.30146421,  0.83907135,\n",
       "        0.3207251 ,  1.64312378, -1.98489008, -0.31381421, -1.1687727 ,\n",
       "       -1.47903095,  1.6524475 , -0.74247913, -0.43146099,  1.06721048,\n",
       "        1.42616242,  2.40375795,  0.28665937,  0.9575876 ,  0.960841  ,\n",
       "       -0.21579111,  1.46067229, -1.08750957, -0.13278989, -1.53436062,\n",
       "        0.7779606 ,  0.88300527, -2.78742465, -1.74211191,  0.9778317 ,\n",
       "       -0.47236234,  1.10914258,  0.29915928, -0.64752699, -0.26610291,\n",
       "        0.15382129,  0.85334192, -0.72976981, -1.742576  , -1.17000965,\n",
       "       -0.79042872,  2.19153568,  0.40995331, -0.21994667,  0.88892417,\n",
       "        0.00743415, -0.4548704 ,  0.86676338,  0.79300836, -1.09323795,\n",
       "       -0.96417057,  1.77278224, -0.36329876, -0.98926193, -0.8046141 ,\n",
       "       -0.2315288 , -0.83728502, -1.61595156,  0.53522344, -0.92776355,\n",
       "       -0.70786344, -2.45438212, -0.89032361,  0.31012219,  1.76701513,\n",
       "        0.6582584 ,  1.47773226,  0.39913241,  0.09228837,  0.80337024,\n",
       "        0.32455674,  0.10400832,  0.47337563, -0.88694091,  0.49297523,\n",
       "        0.14029417,  1.37278699,  0.13753159,  0.97030339,  0.41339668])"
      ]
     },
     "execution_count": 2,
     "metadata": {},
     "output_type": "execute_result"
    }
   ],
   "source": [
    "import matplotlib.pyplot as plt\n",
    "import numpy as np\n",
    "%matplotlib inline\n",
    "\n",
    "X1 = np.random.randn(200,2)\n",
    "X2 = 1.2*np.random.randn(200,2) + 1.5\n",
    "\n",
    "X1[:,0]\n",
    "# plt.scatter(X1[:,0],X1[:,1], label=\"class 1\")\n",
    "# plt.scatter(X2[:,0],X2[:,1], label=\"class 2\")\n",
    "\n",
    "# plt.xlabel('A')\n",
    "# plt.ylabel('B')\n",
    "\n",
    "# plt.legend()\n",
    "\n",
    "# plt.show()\n",
    "# print('Figure 2: A scatterplot of variables A (on the X-axis) vs. B (on the Y-axis). Samples of class 1 are shown in blue, whilst samples of class 2 are shown in orange.')\n"
   ]
  }
 ],
 "metadata": {
  "kernelspec": {
   "display_name": "Python 3",
   "language": "python",
   "name": "python3"
  },
  "language_info": {
   "codemirror_mode": {
    "name": "ipython",
    "version": 3
   },
   "file_extension": ".py",
   "mimetype": "text/x-python",
   "name": "python",
   "nbconvert_exporter": "python",
   "pygments_lexer": "ipython3",
   "version": "3.7.3"
  }
 },
 "nbformat": 4,
 "nbformat_minor": 2
}
