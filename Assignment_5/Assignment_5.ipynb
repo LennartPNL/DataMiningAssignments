{
 "cells": [
  {
   "cell_type": "markdown",
   "metadata": {},
   "source": [
    "# Assignment 5: Association mining\n",
    "\n",
    "## Objective of this assignment\n",
    "The overall objective is to understand how frequent itemsets can be extracted by\n",
    "the Apriori algorithm and be able to calculate and interpret association rules in terms of support and confidence.\n",
    "\n",
    "## ** Important: ** When handing in your homework:\n",
    "+ Hand in the notebook **(and nothing else)** named as follows: **StudentName1_snumber_StudentName2_snumber.ipynb**\n",
    "+ Provide clear and complete answers to the questions below under a separate header (not hidden somewhere in your source code), and make sure to explain your answers / motivate your choices. Add Markdown cells where necessary.\n",
    "+ Source code, output graphs, derivations, etc., should be included in the notebook.\n",
    "+ Hand-in: upload to Brightspace.\n",
    "+ Include name, student number, assignment (especially in filenames)!\n",
    "+ When working in pairs only one of you should upload the assignment, and report the name of your partner in your filename.\n",
    "+ Use the Brightspace discussion board or email the student assistants for questions on how to complete the exercises.\n",
    "+ If you find mistakes/have suggestions/would like to complain about the assigment material itself, please email me [Lisa] at `l.tostrams@science.ru.nl`\n",
    "\n",
    "## Advised Reading and Exercise Material\n",
    "**The following reading material is recommended:**\n",
    "\n",
    "- Pang-Ning Tan, Michael Steinbach, and Vipin Kumar, *Introduction to Data Mining*, section 6.\n",
    "\n",
    "\n",
    "## Additional Tools\n",
    "For this exercise you will need to load the provided *apriorimining.py* script. \n",
    "\n",
    "\n",
    "##  5.1 Association mining for course data \n",
    "We will use the Apriori algorithm to automatically mine for associations. Check out the script and doc from the Toolbox folder and check if you understand how the association rules are computed. \n",
    "\n"
   ]
  },
  {
   "cell_type": "code",
   "execution_count": null,
   "metadata": {},
   "outputs": [],
   "source": [
    "import Toolbox.apriorimining"
   ]
  },
  {
   "cell_type": "markdown",
   "metadata": {},
   "source": [
    "\n",
    "#### 5.1.1\n",
    "\n",
    "(0 points) Look at the data file `Data/courses.txt` into Python. The data is represented in Table 1. Inspect the file Data/courses.txt and make sure you understand how the data in Table 1 is stored in the text file.\n",
    "\n",
    "##### Table 1\n",
    "|#  |   History |Math| Biology| Spanish | Economics| Physics | Chemistry | English  |  \n",
    "| :-------------: |:-------------:| :-----------:| :----------:| :------------:|:-------------:| :------------:|  :-------------: | :-------------: |\n",
    "|student 1 | 0| 1 | 0 | 0 | 1| 1 |1 |1   \n",
    "|student 2 | 1| 1 | 1 | 0 | 0| 1 |1 |1   \n",
    "|student 3 | 0| 1 | 0 | 1 | 0| 1 |0 |1   \n",
    "|student 4 | 0| 0 | 1 | 0 | 0| 1 |1 |0   \n",
    "|student 5 | 0| 1 | 0 | 0 | 0| 1 |1 |0        \n",
    "|student 6 | 0| 1 | 1 | 0 | 0| 1 |1 |1   \n"
   ]
  },
  {
   "cell_type": "markdown",
   "metadata": {},
   "source": [
    "#### 5.1.2\n",
    "(1 point) We will analyze the data in Table 1 automatically using the function `apriorimining.generate_association_rules()` from the script. Analyze the data with $ minsupport  \\geq 80 \\% $ and $ minconfidence \\geq 100 \\%$.What\n",
    "are the generated association rules? What kind of conclusions can you make based on these association rules about the subjects that students took?  \n",
    "  \n"
   ]
  },
  {
   "cell_type": "code",
   "execution_count": null,
   "metadata": {
    "scrolled": false
   },
   "outputs": [],
   "source": []
  },
  {
   "cell_type": "markdown",
   "metadata": {},
   "source": [
    "*Double click to type your answer for 5.1.2 here:*\n"
   ]
  },
  {
   "cell_type": "markdown",
   "metadata": {},
   "source": [
    "  ##  5.2 Association mining for MovieLens data \n",
    "  \n",
    "  \n",
    "  In this part of the exercise we consider a Market Basket data set containing 943 users purchases of 1682 movies. A total of 100,000 movies\n",
    "have been purchased.The data set is called MovieLens100K and is provided by http://www.grouplens.org/node/73, see also the readme `MovieLensData.txt` in the data folder. The data currently considered is not the original data but modified for the apriori algorithm.\n",
    "\n",
    "#### 5.2.1\n",
    "  (0 points) The MovieLens data is stored in the file MovieLensData.txt. Inspect the file to see how the data is stored.\n",
    "\n",
    "\n",
    "#### 5.2.2 \n",
    "  (1 point) Find association rules using the function below with $ minsupport  \\geq 30 \\% $ and $ minconfidence \\geq 80 \\%$. What are the associations with strongest confidence? Do these associations make sense? The script can use file Data/u.item to print the movie titles in stead of numbers. If you enter filename `MovieLensData.txt`, the script will provide an additional option for this. \n",
    "  "
   ]
  },
  {
   "cell_type": "code",
   "execution_count": null,
   "metadata": {
    "scrolled": false
   },
   "outputs": [],
   "source": []
  },
  {
   "cell_type": "markdown",
   "metadata": {},
   "source": [
    "*Double click to type your answer for 5.2.2 here:*\n",
    "\n"
   ]
  },
  {
   "cell_type": "markdown",
   "metadata": {},
   "source": [
    "#### 5.2.3 \n",
    "(1 point) Which movies have been watched by the most users? There are only few rules with more than three items. Why?"
   ]
  },
  {
   "cell_type": "markdown",
   "metadata": {},
   "source": [
    "*Double click to type your answer for 5.2.3 here:*\n"
   ]
  },
  {
   "cell_type": "markdown",
   "metadata": {},
   "source": [
    "#### 5.2.4\n",
    "(0.5 points) Often we are interested in rules with high confidence. Is it possible for\n",
    "itemsets to have very low support but still have a very high confidence?"
   ]
  },
  {
   "cell_type": "markdown",
   "metadata": {},
   "source": [
    "*Double click to type your answer for 5.2.4 here:*\n"
   ]
  },
  {
   "cell_type": "markdown",
   "metadata": {},
   "source": [
    "## 5.3 Calculating support, confidence and interest\n",
    "\n",
    "Calculate these measures and write down how you computed things, not just the answers. \n",
    "\n",
    "\n",
    "#### 5.3.1\n",
    " Suppose we have market basket data consisting of 100 transactions and 20 items. The support for item $ \\text{a} = 45 \\%$, the support for item $ \\text{b} = 80 \\%$ and the support for itemset $ \\text{ {a,b }} = 30 \\%$. Let the support and confidence thresholds be 20$ \\%$ and 60$ \\%$, respectively.\n",
    "  \n",
    "1. (0.5 points) Compute the confidence of the association rule $ \\text{ {a } } \\rightarrow   \\text{{b }} $. Is the rule interesting according to the confidence measure?\n",
    "\n",
    "2. (0.5 points) Compute the interest measure (or lift, see slide 44 of chapter 6) for the association pattern $ \\text{ {a,b}}$. Describe the nature of the relationship between item $ \\text{a}$ and item $ \\text{b}$  in terms of the itemset measure.\n",
    "3. (1 points) What conclusion can you draw from the results of parts (1) and (2)?"
   ]
  },
  {
   "cell_type": "markdown",
   "metadata": {},
   "source": [
    "*Double click to type your answer for 5.3.1 here:*\n",
    "\n"
   ]
  },
  {
   "cell_type": "markdown",
   "metadata": {},
   "source": [
    "#### 5.3.2\n",
    "\n",
    "1. (1 points) Let $c_1$, $c_2$, and $c_3$ be the confidence values of the rules $ \\text{ {a } } \\rightarrow   \\text{{b }} $, $ \\text{ {a } } \\rightarrow   \\text{{b,c }} $, and $ \\text{ {a,c } } \\rightarrow   \\text{{b }} $ respectively. If we assume that $c_1$, $c_2$, and $c_3$ have different values, what are the possible inequality relationships (e.g. $c_1 \\leq c_2 \\leq c_3$) among $c_1$, $c_2$, and $c_3$? Which rule has the lowest confidence?\n",
    "2. (0.5 points) Suppose the confidence of the rules  $ \\text{ {a } } \\rightarrow   \\text{{b }} $ and $ \\text{ {b } } \\rightarrow   \\text{{c }} $ are larger than the confidence threshold. Is it possible that $ \\text{ {a } } \\rightarrow   \\text{{c }} $ has a confidence below that threshold? If no, explain why. If yes, give an example. "
   ]
  },
  {
   "cell_type": "markdown",
   "metadata": {},
   "source": [
    "*Double click to type your answer for 5.3.2 here:*\n",
    "\n"
   ]
  },
  {
   "cell_type": "markdown",
   "metadata": {},
   "source": [
    "\n",
    "#### 5.3.3\n",
    "\n",
    "(3 points) Consider the relationships between customers who buy high-definition televisions and exercise machines as shown in Table 2 and 3.\n",
    "\n",
    "1. Compute the odd ratios for both tables.\n",
    "2. Compute the $\\phi$-coefficient for both tables.\n",
    "3. Compute the interest (or lift, in the book) factor for both tables.\n",
    "\n",
    "For Table 3 you should compute measures given above separately for College\n",
    "Students and for Adults. For each of the measures, describe how the direction\n",
    "of association changes when data is pooled together (Table 2) instead of being\n",
    "separated into two groups (Table 3)\n",
    "\n",
    "##### Table 2: Two way contingency table between the sale of high-definition television and exercise machine\n",
    "| |   Buy Exercise machine |     |     |\n",
    "| :------------- | -------------:| :-----------:| :----------:| \n",
    "| **Buy HDTV     ** | yes | no | total |\n",
    "| yes  | 105| 87 | 192 | \n",
    "| no | 40| 62 | 102 |   \n",
    "| total | 145 | 149 | 294 | \n",
    " \n",
    "\n",
    "##### Table 3: Example of three-way contingency table\n",
    "| | |   Buy Exercise machine |     |     |\n",
    "|--- | :------------- | -------------:| :-----------:| :----------:| \n",
    "|**Customer group** | **Buy HDTV     ** | yes | no | total |\n",
    "|College students | yes  | 2| 9 | 11 | \n",
    "| | no | 5| 20 | 25 |\n",
    "| Working adults | yes  | 103| 78 | 181 | \n",
    "| | no | 35| 42 | 77 |  \n",
    "\n"
   ]
  },
  {
   "cell_type": "markdown",
   "metadata": {},
   "source": [
    "*Double click to type your answer for 5.3.3 here:*\n"
   ]
  }
 ],
 "metadata": {
  "anaconda-cloud": {},
  "kernelspec": {
   "display_name": "Python 3",
   "language": "python",
   "name": "python3"
  },
  "language_info": {
   "codemirror_mode": {
    "name": "ipython",
    "version": 3
   },
   "file_extension": ".py",
   "mimetype": "text/x-python",
   "name": "python",
   "nbconvert_exporter": "python",
   "pygments_lexer": "ipython3",
   "version": "3.7.3"
  }
 },
 "nbformat": 4,
 "nbformat_minor": 1
}
