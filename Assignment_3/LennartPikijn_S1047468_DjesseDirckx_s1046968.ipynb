{
 "cells": [
  {
   "cell_type": "markdown",
   "metadata": {},
   "source": [
    "# Assignment 3\n",
    "\n",
    "## Objective of this assignment\n",
    "The objective of this exercise is to become familiar with fitting decision trees and\n",
    "making ROC curves in Python.\n",
    "\n",
    "\n",
    "## ** Important: ** When handing in your homework:\n",
    "+ Hand in the notebook **(and nothing else)** named as follows: StudentName1_snumber_StudentName2_snumber.ipynb\n",
    "+ Provide clear and complete answers to the questions below under a separate header (not hidden somewhere in your source code), and make sure to explain your answers / motivate your choices. Add Markdown cells where necessary.\n",
    "+ Source code, output graphs, derivations, etc., should be included in the notebook.\n",
    "+ Hand-in: upload to Brightspace.\n",
    "+ Include name, student number, assignment (especially in filenames)!\n",
    "+ When working in pairs only one of you should upload the assignment, and report the name of your partner in your filename.\n",
    "+ Use the Brightspace discussion board or email the student assistants for questions on how to complete the exercises.\n",
    "+ If you find mistakes/have suggestions/would like to complain about the assigment material itself, please email me [Lisa] at `l.tostrams@science.ru.nl`\n",
    "\n",
    "\n",
    "## Advised Reading and Exercise Material\n",
    "**The following reading material is recommended:**\n",
    "\n",
    "Pang-Ning Tan, Michael Steinbach, and Vipin Kumar, Introduction to Data Mining, section 4.1-4.6, as well as the included article on ROC curves.\n"
   ]
  },
  {
   "cell_type": "markdown",
   "metadata": {},
   "source": [
    "## 3.1 Decision trees\n",
    "\n",
    "In this part of the exercise we will fit decision trees using the scikitlearn classifier\n",
    "`sklearn.tree.DecisionTreeClassifier`. As a splitting criterion, the function uses\n",
    "one of the following two impurity measures:\n",
    "\n",
    "\\begin{equation} \\textrm{gdi}(t) = -\\sum_{i=1}^C p(i|t)^2 \\quad \\text{       equivalent to Gini(t)} \\end{equation}   \n",
    "\n",
    "\\begin{equation}\n",
    "\\textrm{deviance}(t) = -2\\sum_{i=1}^C p(i|t) \\log p(i|t) \\quad \\text{equivalent to Entropy(t)} \n",
    "\\end{equation}\n",
    "\n",
    "We will analyze the wine data we have used previously. The wine data set has the following attributes, all of which are continuous: \n",
    "\n",
    "\n",
    "| #             | Attribute     | Unit  |\n",
    "| ------------- |:-------------| -----:|\n",
    "|1 | Fixed acidity (tartaric) | g/dm$^3$ |\n",
    "|2 | Volatile acidity (acetic) | g/dm$^3$ |\n",
    "|3 | Citric acid | g/dm$^3$ |\n",
    "|4 | Residual sugar | g/dm$^3$ |\n",
    "|5 | Chlorides | g/dm$^3$ |\n",
    "|6 | Free sulfur dioxide | mg/dm$^3$ |\n",
    "|7 | Total sulfur dioxide | mg/dm$^3$ |\n",
    "|8 | Density | g/cm$^3$ |\n",
    "|9 | pH | pH |\n",
    "|10 | Sulphates | g/dm$^3$ |\n",
    "|11 | Alcohol | % vol. | \n",
    "\n",
    "\n",
    "#### 3.1.1\n",
    "(0.5 pts) Load the wine data set `Data/wine.mat` using the `scipy.io` `loadmat` function. This contains the same data as used in the earlier assignment, but with outliers and the 12th attribute already removed. Create data matrix $X$, class vector $y$, and the lists $attributeNames$ and $classNames$ with the data provided in the `wine.mat` file. Print out the  $attributeNames$ and $classNames$ to make sure it's a list of strings.\n",
    "\n",
    "   ** hints: **   \n",
    "*The object in wine.mat is a dictionary. The attributes are stored in matrix $X$, the class in vector $y$. $y$ is shaped as an array containing single element arrays. To flatten $y$, you can use `y.ravel()`, which unravels matrices into a 1d array. Attribute names and class names are stored in the attributeNames and classNames objects, which contain arrays, of which the first element contains the names. To get the names from those arrays, you can use list comprehension or for-loops. For more on list comprehension, check https://www.digitalocean.com/community/tutorials/understanding-list-comprehensions-in-python-3. For example, if you have an larger array containing nested arrays of which you want the first element, you can try `new_array = [nested_array[0] for nested_array in larger_array]`.*\n",
    "\n"
   ]
  },
  {
   "cell_type": "code",
   "execution_count": 27,
   "metadata": {},
   "outputs": [],
   "source": [
    "figure_counter = 1"
   ]
  },
  {
   "cell_type": "code",
   "execution_count": 14,
   "metadata": {},
   "outputs": [
    {
     "name": "stdout",
     "output_type": "stream",
     "text": [
      "Attribute names: ['Fixed acidity', 'Volatile acidity', 'Citric acid', 'Residual sugar', 'Chlorides', 'Free sulfur dioxide', 'Total sulfur dioxide', 'Density', 'pH', 'Sulphates', 'Alcohol']\n",
      "\n",
      "Class names: ['Red', 'White']\n"
     ]
    }
   ],
   "source": [
    "from scipy.io import loadmat\n",
    "\n",
    "# 3.1.1\n",
    "\n",
    "# Loading the data into scipy\n",
    "data = loadmat(\"Data/wine.mat\")\n",
    "\n",
    "# Extract attribute and class names\n",
    "attr_names = [name[0] for names in data[\"attributeNames\"] for name in names]\n",
    "class_names = [class_name[0] for classnames in data[\"classNames\"] for class_name in classnames]\n",
    "\n",
    "# Extract data matrix and class vector\n",
    "X = data['X']\n",
    "y = data['y']\n",
    "\n",
    "print(\"Attribute names: {}\\n\".format(attr_names))\n",
    "print(\"Class names: {}\".format(class_names))"
   ]
  },
  {
   "cell_type": "markdown",
   "metadata": {},
   "source": [
    "#### 3.1.2\n",
    " (1.5 pts) Fit a decision tree to the wine data in order to estimate if the wine is red or white. Use the Gini (gdi) splitting criterion. Use `min_samples_split=100` for the stopping criterion. Explain what happens when you change the values of the parameter `min_samples_split`. After fitting the tree, visualize it with the tree_print function in `treeprint.py` in the Toolbox folder. \n",
    "\n",
    "** hints: **   \n",
    "*The `treeprint.py` file contains some documentation on how to use it. Helpfull documentation for the DecisionTreeClassifier function can be found at * http://scikit-learn.org/stable/modules/tree.html#classification  \n",
    "\n"
   ]
  },
  {
   "cell_type": "code",
   "execution_count": 15,
   "metadata": {
    "scrolled": false
   },
   "outputs": [
    {
     "name": "stdout",
     "output_type": "stream",
     "text": [
      "         |->3  White\n",
      "         |\n",
      "      |->2 then if Sulphates =< 0.56: go to 3, else go to 4\n",
      "      |  |\n",
      "      |  |->4  White\n",
      "      |\n",
      "   |->1 then if Chlorides =< 0.05: go to 2, else go to 5\n",
      "   |  |\n",
      "   |  |  |->6  White\n",
      "   |  |  |\n",
      "   |  |->5 else if Sulphates =< 0.37: go to 6, else go to 7\n",
      "   |     |\n",
      "   |     |  |->8  White\n",
      "   |     |  |\n",
      "   |     |->7 else if Density =< 0.99: go to 8, else go to 9\n",
      "   |        |\n",
      "   |        |     |->11  White\n",
      "   |        |     |\n",
      "   |        |  |->10 then if Residual sugar =< 1.10: go to 11, else go to 12\n",
      "   |        |  |  |\n",
      "   |        |  |  |  |->13  Red\n",
      "   |        |  |  |  |\n",
      "   |        |  |  |->12 else if Density =< 0.99: go to 13, else go to 14\n",
      "   |        |  |     |\n",
      "   |        |  |     |  |->15  Red\n",
      "   |        |  |     |  |\n",
      "   |        |  |     |->14 else if Chlorides =< 0.05: go to 15, else go to 16\n",
      "   |        |  |        |\n",
      "   |        |  |        |  |->17  Red\n",
      "   |        |  |        |  |\n",
      "   |        |  |        |->16 else if Sulphates =< 0.45: go to 17, else go to 18\n",
      "   |        |  |           |\n",
      "   |        |  |           |->18  Red\n",
      "   |        |  |\n",
      "   |        |->9 else if Residual sugar =< 10.70: go to 10, else go to 19\n",
      "   |           |\n",
      "   |           |->19  White\n",
      "   |\n",
      "if Total sulfur dioxide =< 66.50: go to 1, else go to 20\n",
      "   |\n",
      "   |                 |->26  Red\n",
      "   |                 |\n",
      "   |              |->25 then if Chlorides =< 0.01: go to 26, else go to 27\n",
      "   |              |  |\n",
      "   |              |  |        |->30  White\n",
      "   |              |  |        |\n",
      "   |              |  |     |->29 then if Citric acid =< 0.10: go to 30, else go to 31\n",
      "   |              |  |     |  |\n",
      "   |              |  |     |  |  |->32  White\n",
      "   |              |  |     |  |  |\n",
      "   |              |  |     |  |->31 else if Total sulfur dioxide =< 72.50: go to 32, else go to 33\n",
      "   |              |  |     |     |\n",
      "   |              |  |     |     |  |->34  White\n",
      "   |              |  |     |     |  |\n",
      "   |              |  |     |     |->33 else if Residual sugar =< 0.92: go to 34, else go to 35\n",
      "   |              |  |     |        |\n",
      "   |              |  |     |        |        |->38  White\n",
      "   |              |  |     |        |        |\n",
      "   |              |  |     |        |     |->37 then if Free sulfur dioxide =< 6.50: go to 38, else go to 39\n",
      "   |              |  |     |        |     |  |\n",
      "   |              |  |     |        |     |  |        |->42  White\n",
      "   |              |  |     |        |     |  |        |\n",
      "   |              |  |     |        |     |  |     |->41 then if pH =< 3.31: go to 42, else go to 43\n",
      "   |              |  |     |        |     |  |     |  |\n",
      "   |              |  |     |        |     |  |     |  |->43  White\n",
      "   |              |  |     |        |     |  |     |\n",
      "   |              |  |     |        |     |  |  |->40 then if Citric acid =< 0.23: go to 41, else go to 44\n",
      "   |              |  |     |        |     |  |  |  |\n",
      "   |              |  |     |        |     |  |  |  |->44  White\n",
      "   |              |  |     |        |     |  |  |\n",
      "   |              |  |     |        |     |  |->39 else if Sulphates =< 0.75: go to 40, else go to 45\n",
      "   |              |  |     |        |     |     |\n",
      "   |              |  |     |        |     |     |->45  White\n",
      "   |              |  |     |        |     |\n",
      "   |              |  |     |        |  |->36 then if Alcohol =< 13.58: go to 37, else go to 46\n",
      "   |              |  |     |        |  |  |\n",
      "   |              |  |     |        |  |  |->46  White\n",
      "   |              |  |     |        |  |\n",
      "   |              |  |     |        |->35 else if Sulphates =< 0.78: go to 36, else go to 47\n",
      "   |              |  |     |           |\n",
      "   |              |  |     |           |->47  White\n",
      "   |              |  |     |\n",
      "   |              |  |  |->28 then if Total sulfur dioxide =< 275.00: go to 29, else go to 48\n",
      "   |              |  |  |  |\n",
      "   |              |  |  |  |->48  White\n",
      "   |              |  |  |\n",
      "   |              |  |->27 else if Sulphates =< 0.81: go to 28, else go to 49\n",
      "   |              |     |\n",
      "   |              |     |->49  White\n",
      "   |              |\n",
      "   |           |->24 then if pH =< 3.83: go to 25, else go to 50\n",
      "   |           |  |\n",
      "   |           |  |->50  Red\n",
      "   |           |\n",
      "   |        |->23 then if Chlorides =< 0.07: go to 24, else go to 51\n",
      "   |        |  |\n",
      "   |        |  |->51  White\n",
      "   |        |\n",
      "   |     |->22 then if Sulphates =< 1.12: go to 23, else go to 52\n",
      "   |     |  |\n",
      "   |     |  |->52  Red\n",
      "   |     |\n",
      "   |  |->21 then if Volatile acidity =< 0.82: go to 22, else go to 53\n",
      "   |  |  |\n",
      "   |  |  |->53  Red\n",
      "   |  |\n",
      "   |->20 else if Chlorides =< 0.07: go to 21, else go to 54\n",
      "      |\n",
      "      |     |->56  Red\n",
      "      |     |\n",
      "      |  |->55 then if Citric acid =< 0.06: go to 56, else go to 57\n",
      "      |  |  |\n",
      "      |  |  |  |->58  Red\n",
      "      |  |  |  |\n",
      "      |  |  |->57 else if Chlorides =< 0.07: go to 58, else go to 59\n",
      "      |  |     |\n",
      "      |  |     |     |->61  Red\n",
      "      |  |     |     |\n",
      "      |  |     |  |->60 then if Total sulfur dioxide =< 68.50: go to 61, else go to 62\n",
      "      |  |     |  |  |\n",
      "      |  |     |  |  |->62  White\n",
      "      |  |     |  |\n",
      "      |  |     |->59 else if Fixed acidity =< 9.95: go to 60, else go to 63\n",
      "      |  |        |\n",
      "      |  |        |->63  Red\n",
      "      |  |\n",
      "      |->54 else if Density =< 1.00: go to 55, else go to 64\n",
      "         |\n",
      "         |        |->67  White\n",
      "         |        |\n",
      "         |     |->66 then if Volatile acidity =< 0.23: go to 67, else go to 68\n",
      "         |     |  |\n",
      "         |     |  |->68  Red\n",
      "         |     |\n",
      "         |  |->65 then if Total sulfur dioxide =< 157.50: go to 66, else go to 69\n",
      "         |  |  |\n",
      "         |  |  |->69  White\n",
      "         |  |\n",
      "         |->64 else if Residual sugar =< 6.25: go to 65, else go to 70\n",
      "            |\n",
      "            |->70  White\n",
      "<---------------------------------------------------------------------------------------->\n",
      "Tree Depth:  18\n"
     ]
    }
   ],
   "source": [
    "from Toolbox.treeprint import tree_print\n",
    "from sklearn.tree import DecisionTreeClassifier\n",
    "\n",
    "# Initialize decision tree\n",
    "tree = DecisionTreeClassifier(min_samples_split = 100)\n",
    "\n",
    "# Fit a decision tree to the wine data in order to estimate if the wine is red or white.\n",
    "tree = tree.fit(X,y)\n",
    "\n",
    "# Visualize the three with the tree_print function in treeprint.py in the Toolbox folder\n",
    "tree_print(tree, attr_names, class_names)"
   ]
  },
  {
   "cell_type": "markdown",
   "metadata": {},
   "source": [
    "<b>3.1.2)</b>\n",
    "\n",
    "<b>Explain what happens when you change the values of the parameter min_samples_split.</b>\n",
    "\n",
    "If we increase the min_samples_split parameter, the tree has to consider more possibilities for splitting at each node."
   ]
  },
  {
   "cell_type": "markdown",
   "metadata": {},
   "source": [
    "#### 3.1.3\n",
    "\n",
    "(0.5 pts) Show that a wine with the following attribute values would be classified as white by the tree fitted in 3.1.2, by applying the `predict()` function from the DecisionTreeClassifier to this sample.  Have another look at the visualized tree. Which attributes are used to classify this wine? \n",
    "\n",
    "| #             | Attribute     | Value  |\n",
    "| ------------- |:-------------| -----:|\n",
    "|1 | Fixed acidity (tartaric) | 6.9 g/dm$^3$ |\n",
    "|2 | Volatile acidity (acetic) | 1.09 g/dm$^3$ |\n",
    "|3 | Citric acid | 0.06 g/dm$^3$ |\n",
    "|4 | Residual sugar | 2.1 g/dm$^3$ |\n",
    "|5 | Chlorides | 0.0061 g/dm$^3$ |\n",
    "|6 | Free sulfur dioxide | 12 mg/dm$^3$ |\n",
    "|7 | Total sulfur dioxide | 31 mg/dm$^3$ |\n",
    "|8 | Density | 0.99 g/cm$^3$ |\n",
    "|9 | pH | 3.5 |\n",
    "|10 | Sulphates | 0.64 g/dm$^3$ |\n",
    "|11 | Alcohol | 12 % vol. | \n",
    "\n",
    "** hints: **\n",
    "*If you don't know how to classify input values with a tree, see the help documentation for the DecisionTreeClassifier function on how to predict the label for a sample. *"
   ]
  },
  {
   "cell_type": "code",
   "execution_count": 16,
   "metadata": {},
   "outputs": [
    {
     "name": "stdout",
     "output_type": "stream",
     "text": [
      "Prediction: 1\n",
      "The prediction yields a one, which is white wine.\n"
     ]
    }
   ],
   "source": [
    "# Create an array of the values shown in the table for this wine.\n",
    "wine_values = [6.9,1.09,0.06,2.1,0.0061,12,31,0.99,3.5,0.64,12]\n",
    "\n",
    "# Predict which wine is represented by these values\n",
    "predictions = tree.predict([wine_values])\n",
    "\n",
    "print(\"Prediction: {}\".format(predictions[0]))\n",
    "print(\"The prediction yields a one, which is white wine.\")"
   ]
  },
  {
   "cell_type": "markdown",
   "metadata": {},
   "source": [
    "<b>3.1.3)</b>\n",
    "\n",
    "<i>Which attributes are used to classify this wine? </i>\n",
    "\n",
    "- Total sulfur dioxide\n",
    "- Chloride\n",
    "- Sulphate"
   ]
  },
  {
   "cell_type": "markdown",
   "metadata": {},
   "source": [
    "#### 3.1.4\n",
    "(1 pts) Classify all the wines in the wine data set. What percentage of the wine data is classified correctly by the tree?\n",
    "\n"
   ]
  },
  {
   "cell_type": "code",
   "execution_count": 17,
   "metadata": {},
   "outputs": [
    {
     "name": "stdout",
     "output_type": "stream",
     "text": [
      "Correctly classified wines by tree: 98.68%\n"
     ]
    }
   ],
   "source": [
    "# Classify all wines in the dataset\n",
    "classifications = tree.predict(X)\n",
    "\n",
    "correct_counter = 0\n",
    "\n",
    "for i in range(len(y)):\n",
    "    if classifications[i] == y[i]:\n",
    "        correct_counter += 1\n",
    "\n",
    "print(\"Correctly classified wines by tree: {:.2f}%\".format((correct_counter/len(y)) * 100))"
   ]
  },
  {
   "cell_type": "markdown",
   "metadata": {},
   "source": [
    "**3.1.4)**\n",
    "\n",
    "<b>What percentage of the wine data is classified correctly by the tree?</b>\n",
    "\n",
    "98.68% of the wine is correctly classified by the tree."
   ]
  },
  {
   "cell_type": "markdown",
   "metadata": {},
   "source": [
    "## 3.2 Decision tree pruning using cross-validation\n",
    "\n",
    "In this exercise we will use cross-validation to prune a decision tree. When applying cross-validation the observed data is split into training and test sets, i.e., `X_train`, `y_train` and `X_test` and `y_test`. We train the model on the training data and evaluate the performance of the trained model on the test data.\n",
    "\n",
    "#### 3.2.1\n",
    "(2 pts) We are again using the wine data set `Data/wine.mat`. Divide the data into a training and a test data set (see hints!). Fit a decision tree to the training data using the Gini (`gdi`) splitting criterion.\n",
    "\n",
    "Now, we want to find an optimally pruned decision tree by *modifying its maximum depth*. For different values of the parameter `depth` (from 2 to 20), \n",
    "+ first fit the decision tree\n",
    "+ then compute the classification error on the training and test set (this is called holdout cross-validation)\n",
    "\n",
    "When you've done this for `depth` values 2,...,20, plot the training and test classification error as a function of the tree depth in the same figure. This will show us what the optimal pruning depth is for the training set, but also how well this generalizes to a test set. \n",
    "\n",
    "\n",
    "** hints: **  \n",
    "*Take a look at the module `sklearn.model_selection` and see how it can be used to partition the data into a training and a test set (holdout validation, `train_test_split()` function). Note that the package also contains functions to partition data for K-fold cross-validation. Some of the functions can ensure that both training and test sets have roughly the same class proportions. The error is 1-accuracy. The easiest way to compute the accuracy is by using the sklearn metrics module: \n",
    " https://scikit-learn.org/stable/modules/generated/sklearn.metrics.accuracy_score.html *\n",
    "\n",
    "What appears to be the optimal tree depth? Do you get the same result when you run your code again, generating a new random split between training and test data?\n"
   ]
  },
  {
   "cell_type": "code",
   "execution_count": 28,
   "metadata": {},
   "outputs": [
    {
     "data": {
      "image/png": "[encoded data removed]",
      "text/plain": [
       "<Figure size 432x288 with 1 Axes>"
      ]
     },
     "metadata": {
      "needs_background": "light"
     },
     "output_type": "display_data"
    },
    {
     "name": "stdout",
     "output_type": "stream",
     "text": [
      "Figure 1: This graph displays the error rate on wine class prediction. The red line is the error rate for the test data and the blue line is the error rate for the training data.\n"
     ]
    }
   ],
   "source": [
    "from sklearn.metrics import accuracy_score\n",
    "from sklearn.model_selection import train_test_split\n",
    "import matplotlib.pyplot as plt\n",
    "\n",
    "# Divide the data into a training and a test data set\n",
    "X_train, X_test, y_train, y_test = train_test_split(X, y, stratify=y)\n",
    "\n",
    "depths = []\n",
    "accuracies_test = []\n",
    "accuracies_train = []\n",
    "\n",
    "# Now, we want to find an optimally pruned decision tree by modifying its maximum depth. \n",
    "# For different values of the parameter depth (from 2 to 20)\n",
    "for depth in range(2,21):\n",
    "    # Fit a decision tree to the training data using the Gini (gdi) splitting criterion\n",
    "    new_tree = DecisionTreeClassifier(criterion=\"gini\", max_depth=depth)\n",
    "    new_tree = new_tree.fit(X_train,y_train)\n",
    "\n",
    "    # Then compute the classification error on the\n",
    "    # training and test set (this is called holdout cross-validation)\n",
    "    \n",
    "    # Classification error test set\n",
    "    new_classifications_test = new_tree.predict(X_test)\n",
    "\n",
    "    i = 0\n",
    "    error_test =  0\n",
    "    for c in new_classifications_test:\n",
    "        if c != y_test[i]:\n",
    "            error_test += 1\n",
    "        i += 1\n",
    "\n",
    "    # Classification error training set    \n",
    "    new_classifications_train = new_tree.predict(X_train)   \n",
    "    \n",
    "    i = 0\n",
    "    error_train =  0\n",
    "    for c in new_classifications_train:\n",
    "        if c != y_train[i]:\n",
    "            error_train += 1\n",
    "        i += 1\n",
    "        \n",
    "    right_pred_test = (error_test/len(new_classifications_test)) * 100\n",
    "    right_pred_train = (error_train/len(new_classifications_train)) * 100\n",
    "\n",
    "    depths.append(depth)\n",
    "    accuracies_test.append(right_pred_test)\n",
    "    accuracies_train.append(right_pred_train)\n",
    "\n",
    "# When you've done this for depth values 2,...,20, plot the training \n",
    "# and test classification error as a function of the tree depth in the same figure. \n",
    "# This will show us what the optimal pruning depth is for the training set, \n",
    "# but also how well this generalizes to a test set.    \n",
    "\n",
    "plt.xlabel(\"Tree depth\")\n",
    "plt.ylabel(\"Prediction errors in %\")\n",
    "plt.plot( depths, accuracies_test, markersize=12, color='r', label='Test data')\n",
    "plt.plot( depths, accuracies_train, color='b', label='Training data')\n",
    "plt.title(\"Prediction error rate on wine classification\")\n",
    "plt.legend()\n",
    "\n",
    "plt.show()\n",
    "\n",
    "print(\"Figure {}: This graph displays the error rate on wine class prediction. The red line is the error rate for the test data and the blue line is the error rate for the training data.\".format(figure_counter))\n",
    "figure_counter += 1"
   ]
  },
  {
   "cell_type": "markdown",
   "metadata": {},
   "source": [
    "----\n",
    "<b>3.2.1)</b>\n",
    "\n",
    "<b>What appears to be the optimal tree depth? Do you get the same result when you run your code again, generating a new random split between training and test data?</b>\n",
    "\n",
    "The code above has been executed several times and the answer below is based on the general outcome of the code execution. \n",
    "\n",
    "Both on the training data and test data the error rate drops drastically until a depth of 5.\n",
    "After that, the test data performs more or less the same as when more depth is added.\n",
    "The training data error keeps decreasing very slowly at every added level of depth until about 12.\n",
    "A tree depth of 5 seems optimal, even after multiple runs. \n",
    "\n",
    "----"
   ]
  },
  {
   "cell_type": "markdown",
   "metadata": {},
   "source": [
    "#### 3.2.2\n",
    "(1.5 pts) Repeat the exercise above, using 10-fold cross-validation. K-fold cross-validation works by splitting X into K partitions of equal length. Then in each fold, you choose K-1 partitions as the training set and the remaining partition as the test set. Every partition gets a turn being a test set. For a very nice simple explanation of how (and why) K-fold works, check out http://www.dummies.com/programming/big-data/data-science/resorting-cross-validation-machine-learning/\n",
    "\n",
    "\n",
    "For each fold, fit a decision tree on the training set and evaluate its performance on the test set. Finally, compute the average classification errors on the test- and training sets across the 10 cross-validation folds and plot them as a function of the tree depth.\n",
    "\n",
    "** hints: **\n",
    "*This time the `KFold()` function from the module `sklearn.model_selection` can be used to partition the data into the 10 training and test partitions. Check out http://scikit-learn.org/stable/modules/cross_validation.html#k-fold for an example of how to acces the indices for the training set and the test set in each fold. Those indices can then be used to create the training and test set, e.g. `X_train = X[train_indices]`*\n",
    "\n",
    "*If you are creating a for loop iterating over an object where you both need the index and the elements of the object, you can enumerate the object. For example:*\n",
    "\n",
    "`\n",
    "for index, (element) in enumerate(object):\n",
    "    array[index] = operation(element)\n",
    "`\n",
    " \n",
    "\n",
    "What appears to be the optimal tree depth? Do you get the same result when you run your code again, generating a new random split between training and test data? How about 100-fold cross-validation?\n"
   ]
  },
  {
   "cell_type": "code",
   "execution_count": 29,
   "metadata": {},
   "outputs": [
    {
     "data": {
      "image/png": "[encoded data removed]",
      "text/plain": [
       "<Figure size 432x288 with 1 Axes>"
      ]
     },
     "metadata": {
      "needs_background": "light"
     },
     "output_type": "display_data"
    },
    {
     "name": "stdout",
     "output_type": "stream",
     "text": [
      "Figure 2: This graph displays the error rate on wine class prediction using 10-fold cross validation. The red line is the error rate for the test data and the blue line is the error rate for the training data.\n"
     ]
    }
   ],
   "source": [
    "from sklearn.metrics import accuracy_score\n",
    "from sklearn.model_selection import train_test_split, KFold\n",
    "import matplotlib.pyplot as plt\n",
    "\n",
    "# Repeat the exercise above, using 10-fold cross-validation. \n",
    "# K-fold cross-validation works by splitting X into K partitions of equal length.\n",
    "\n",
    "kfold = KFold(n_splits=10)\n",
    "\n",
    "kfold_depths = []\n",
    "\n",
    "kfold_averages_train = []\n",
    "kfold_averages_test = []\n",
    "\n",
    "for depth in range(2,21):\n",
    "    \n",
    "    kfold_accuracies_train = []\n",
    "    kfold_accuracies_test = []\n",
    "    \n",
    "    for train, test in kfold.split(X):\n",
    "        # Then in each fold, you choose K-1 partitions as the training set and the remaining partition as the test set.\n",
    "        X_train, X_test, y_train, y_test = X[train], X[test], y[train], y[test]\n",
    "\n",
    "        # For each fold, fit a decision tree on the training set and evaluate its performance on the test set.\n",
    "        new_tree = DecisionTreeClassifier(criterion=\"gini\", max_depth=depth)\n",
    "        new_tree = new_tree.fit(X_train,y_train)\n",
    "\n",
    "        # Then compute the classification error on the\n",
    "        # Training and test set (this is called holdout cross-validation)\n",
    "\n",
    "        # Classification error test set\n",
    "        new_classifications_test = new_tree.predict(X_test)\n",
    "\n",
    "        i = 0\n",
    "        error_test =  0\n",
    "        for c in new_classifications_test:\n",
    "            if c != y_test[i]:\n",
    "                error_test += 1\n",
    "            i += 1\n",
    "\n",
    "        # Classification error training set    \n",
    "        new_classifications_train = new_tree.predict(X_train)   \n",
    "\n",
    "        i = 0\n",
    "        error_train =  0\n",
    "        for c in new_classifications_train:\n",
    "            if c != y_train[i]:\n",
    "                error_train += 1\n",
    "            i += 1\n",
    "\n",
    "        right_pred_test = (error_test/len(new_classifications_test)) * 100\n",
    "        right_pred_train = (error_train/len(new_classifications_train)) * 100\n",
    "        \n",
    "        kfold_accuracies_test.append(right_pred_test)\n",
    "        kfold_accuracies_train.append(right_pred_train)\n",
    "    \n",
    "    # Finally, compute the average classification errors on the test- and training sets across \n",
    "    # the 10 cross-validation folds and plot them as a function of the tree depth.\n",
    "    kfold_depths.append(depth)\n",
    "    kfold_averages_train.append(sum(kfold_accuracies_train)/len(kfold_accuracies_train))\n",
    "    kfold_averages_test.append(sum(kfold_accuracies_test)/len(kfold_accuracies_test))\n",
    "        \n",
    "# When you've done this for depth values 2,...,20, plot the training \n",
    "# and test classification error as a function of the tree depth in the same figure. \n",
    "# This will show us what the optimal pruning depth is for the training set, \n",
    "# but also how well this generalizes to a test set.    \n",
    "\n",
    "plt.xlabel(\"Tree depth\")\n",
    "plt.ylabel(\"Prediction errors in %\")\n",
    "plt.plot(kfold_depths, kfold_averages_test, markersize=12, color='r', label='Test data')\n",
    "plt.plot(kfold_depths, kfold_averages_train, color='b', label='Training data')\n",
    "plt.title(\"Prediction error rate on wine classification\")\n",
    "plt.legend()\n",
    "\n",
    "plt.show()\n",
    "\n",
    "print(\"Figure {}: This graph displays the error rate on wine class prediction using 10-fold cross validation. The red line is the error rate for the test data and the blue line is the error rate for the training data.\".format(figure_counter))\n",
    "figure_counter += 1"
   ]
  },
  {
   "cell_type": "markdown",
   "metadata": {},
   "source": [
    "----\n",
    "<b>3.2.2)</b>\n",
    "\n",
    "<b>What appears to be the optimal tree depth? Do you get the same result when you run your code again, generating a new random split between training and test data? How about 100-fold cross-validation?</b>\n",
    "\n",
    "In comparison to the results in the previous exercise, the lines stay more or less the same. Therefore a tree depth of 5 seems optimal. Each iteration the error rates on each depth seem more or less the same when running the code multiple times.\n",
    "\n",
    "100-fold cross-validation doesn't differ from the previous results, except from the fact that the start error rate is about 4% instead of the 8% we saw in the 10-fold iterration.\n",
    "\n",
    "----"
   ]
  },
  {
   "cell_type": "markdown",
   "metadata": {},
   "source": [
    " ## 3.3 ROC curves, AUC scores, and the sign test\n",
    "\n",
    "In this exercise we will use ROC curves and the sign test to compare classifiers. Study the lecture slides and the paper 'ROC Graphs: Notes and Practical Considerations for Researchers' by Tom Fawcett included with the homework assignment (ROC101.pdf). It describes all you need to know (and much, much more..) about ROC curves. The method explained for computing the area under the curve is unnecessarily complicated. A simpler formula is:\n",
    "$$\n",
    "    \\mbox{AUC} = {1 \\over m n} \\sum_{i=1}^m \\sum_{j=1}^n \\mathbf{\\large 1}_{p_i > p_j} \\: .\n",
    "   $$\n",
    "Here $i$ runs over all $m$ data points with true label 1, and $j$ runs over all $n$ data points with true label $0$; $p_i$ and $p_j$ denote the probability score assigned by the classifier to data point $i$ and $j$, respectively. $\\mathbf{\\large 1}$ is the indicator function: it outputs $1$ if the condition (here $p_i > p_j$) is satisfied and $0$ otherwise. *Simply put: this formula computes how often the probability of a data point with true label 1 is higher than the probability of data points with true label 0. This is then divided by the total number of comparisons between probabilities.*\n",
    "    \n",
    "\n",
    "#### 3.3.1\n",
    "(0.25 pts) To make sure you understand how ROC works, make an ROC curve and calculate the AUC (on paper) with the following data:\n",
    "\n",
    "`\n",
    "labels = [0,0,0,1,0,1,1,0,1,1]\n",
    "classifier_probs = [0.1,0.2,0.3,0.4,0.5,0.6,0.7,0.8,0.9,0.99]\n",
    "`\n",
    "    \n",
    "What's the AUC you calculated? Do you think this classifier works well?\n"
   ]
  },
  {
   "cell_type": "markdown",
   "metadata": {},
   "source": [
    "<b>3.3.1)</b>\n",
    "\n",
    "<i>AUC calculation</i>\n",
    "- M1(prob=0.4) > N1 = 3 times\n",
    "- M2(prob=0.6) > N2 = 4 times\n",
    "- M3(prob=0.7) > N3 = 4 times\n",
    "- M4(prob=0.9) > N4 = 5 times\n",
    "- M5(prob=0.99) > N5 = 5 times\n",
    "\n",
    "AUC = (1/25) * 21 = 0.84\n",
    "\n",
    "The AUC is reasonably large, which means the classifier probably works quite well"
   ]
  },
  {
   "cell_type": "markdown",
   "metadata": {},
   "source": [
    "#### 3.3.2\n",
    "  Load the file `Data/classprobs.xls` using the Pandas `read_excel` function. Inspect the data and cast it to an array with the `.values` attribute. The first column gives the true class label (either 0 or 1). The second and third column give the probabilistic scores for two different classifiers. The higher this probability, the more certain the classifier is that the example belongs to class 1 (instead of class 0).\n"
   ]
  },
  {
   "cell_type": "code",
   "execution_count": 20,
   "metadata": {},
   "outputs": [
    {
     "data": {
      "text/html": [
       "<div>\n",
       "<style scoped>\n",
       "    .dataframe tbody tr th:only-of-type {\n",
       "        vertical-align: middle;\n",
       "    }\n",
       "\n",
       "    .dataframe tbody tr th {\n",
       "        vertical-align: top;\n",
       "    }\n",
       "\n",
       "    .dataframe thead th {\n",
       "        text-align: right;\n",
       "    }\n",
       "</style>\n",
       "<table border=\"1\" class=\"dataframe\">\n",
       "  <thead>\n",
       "    <tr style=\"text-align: right;\">\n",
       "      <th></th>\n",
       "      <th>0</th>\n",
       "      <th>1</th>\n",
       "      <th>2</th>\n",
       "    </tr>\n",
       "  </thead>\n",
       "  <tbody>\n",
       "    <tr>\n",
       "      <th>0</th>\n",
       "      <td>1</td>\n",
       "      <td>0.88700</td>\n",
       "      <td>0.797060</td>\n",
       "    </tr>\n",
       "    <tr>\n",
       "      <th>1</th>\n",
       "      <td>0</td>\n",
       "      <td>0.13591</td>\n",
       "      <td>0.099401</td>\n",
       "    </tr>\n",
       "    <tr>\n",
       "      <th>2</th>\n",
       "      <td>0</td>\n",
       "      <td>0.55549</td>\n",
       "      <td>0.650750</td>\n",
       "    </tr>\n",
       "    <tr>\n",
       "      <th>3</th>\n",
       "      <td>0</td>\n",
       "      <td>0.23876</td>\n",
       "      <td>0.508570</td>\n",
       "    </tr>\n",
       "    <tr>\n",
       "      <th>4</th>\n",
       "      <td>0</td>\n",
       "      <td>0.14542</td>\n",
       "      <td>0.236290</td>\n",
       "    </tr>\n",
       "  </tbody>\n",
       "</table>\n",
       "</div>"
      ],
      "text/plain": [
       "   0        1         2\n",
       "0  1  0.88700  0.797060\n",
       "1  0  0.13591  0.099401\n",
       "2  0  0.55549  0.650750\n",
       "3  0  0.23876  0.508570\n",
       "4  0  0.14542  0.236290"
      ]
     },
     "execution_count": 20,
     "metadata": {},
     "output_type": "execute_result"
    }
   ],
   "source": [
    "import pandas as pd\n",
    "\n",
    "df = pd.read_excel('Data/classprobs.xls', header=None)\n",
    "\n",
    "df_array = df.values\n",
    "\n",
    "# Inspect df\n",
    "df.head()"
   ]
  },
  {
   "cell_type": "markdown",
   "metadata": {},
   "source": [
    "#### 3.3.3\n",
    "(1 pts) Calculate the ROC curves for both of the classifiers by calculating the FP and TP rates and plot them in the same plot. Make the plot yourself as opposed to using a library! Also plot a dashed line on the diagonal to represent random guessing in the same figure. Interpret the obtained results. Do both classifiers perform better than random guessing?\n",
    "\n",
    "** hints: **  \n",
    "*The function `sklearn.metrics.roc_curve` can be used for computing the FP and TP rates. You can then plot them using the `matplotlib.pyplot` `plot` function. Check the documentation on how to plot a dashed line. Remember to include a legend!* \n",
    "\n",
    "**An extra tip: the sign test example below includes a figure with dashed lines and a legend...**\n",
    " "
   ]
  },
  {
   "cell_type": "code",
   "execution_count": 30,
   "metadata": {},
   "outputs": [
    {
     "data": {
      "image/png": "[encoded data removed]",
      "text/plain": [
       "<Figure size 432x288 with 1 Axes>"
      ]
     },
     "metadata": {
      "needs_background": "light"
     },
     "output_type": "display_data"
    },
    {
     "name": "stdout",
     "output_type": "stream",
     "text": [
      "Figure 3: The graph above shows the ROC curves of classifier 1 and classifier 2.\n"
     ]
    }
   ],
   "source": [
    "from sklearn.metrics import roc_curve\n",
    "\n",
    "# Calculate roc_curve for classifier one\n",
    "fpr_1, tpr_1, tresholds = roc_curve(df[0], df[1])\n",
    "\n",
    "# Calculate roc_curve for classifier two\n",
    "fpr_2, tpr_2, tresholds = roc_curve(df[0], df[2])\n",
    "\n",
    "plt.plot(fpr_1,tpr_1, label=\"ROC classifier 1\")\n",
    "plt.plot(fpr_2,tpr_2, label=\"ROC classifier 2\")\n",
    "plt.plot([0,1], [0,1], \"--\", label=\"Random guessing diagonal\")\n",
    "plt.title(\"ROC of classifier 1 and 2\")\n",
    "plt.xlabel(\"False positive rate\")\n",
    "plt.ylabel(\"True positive rate\")\n",
    "\n",
    "plt.legend()\n",
    "plt.show()\n",
    "\n",
    "print(\"Figure {}: The graph above shows the ROC curves of classifier 1 and classifier 2.\".format(figure_counter))\n",
    "figure_counter += 1"
   ]
  },
  {
   "cell_type": "markdown",
   "metadata": {},
   "source": [
    "<b>3.3.3)</b>\n",
    "\n",
    "<b>Do both classifiers perform better than random guessing?</b>\n",
    "\n",
    "Both classifiers perform better than random guessing. This can be seen because both lines are above the random guessing diagonal."
   ]
  },
  {
   "cell_type": "markdown",
   "metadata": {},
   "source": [
    "#### 3.3.4\n",
    "(0.5 pts) Compute the AUC scores (area under the curve) of both classifiers using the formula given above. **Write your own code for this calculation.** Do the AUC scores indicate that the classifiers are performing better than this baseline?\n",
    "\n",
    "\n",
    "\n",
    "\n",
    " "
   ]
  },
  {
   "cell_type": "code",
   "execution_count": 25,
   "metadata": {},
   "outputs": [
    {
     "name": "stdout",
     "output_type": "stream",
     "text": [
      "AUC classifier 1: 0.9564471879286693\n",
      "\n",
      "AUC classifier 2: 0.7654320987654321\n"
     ]
    }
   ],
   "source": [
    "y_classes = df[0]\n",
    "\n",
    "freq_classifier_1 = 0\n",
    "freq_classifier_2 = 0\n",
    "\n",
    "zeros = 0\n",
    "ones = 0\n",
    "\n",
    "for index, class_value in enumerate(y_classes):\n",
    "    \n",
    "    # Check if class value is equal to 1\n",
    "    if class_value == 1:\n",
    "        ones += 1\n",
    "        \n",
    "        # Get prediction values for current one of both classifiers\n",
    "        classifier_1_value = df[1][index]\n",
    "        classifier_2_value = df[2][index]\n",
    "        \n",
    "        # Compare all zeros to this particular one\n",
    "        for classifier_index, zero_value in enumerate(y_classes):\n",
    "            if zero_value == 0:\n",
    "                \n",
    "                # Compare with classifier one\n",
    "                if classifier_1_value > df[1][classifier_index]:\n",
    "                    freq_classifier_1 += 1\n",
    "                \n",
    "                # Compare with classifier two\n",
    "                if classifier_2_value > df[2][classifier_index]:\n",
    "                    freq_classifier_2 += 1\n",
    "    else:\n",
    "        zeros += 1\n",
    "\n",
    "# Calculate AUC for both classifiers\n",
    "AUC_1 = (1/(zeros*ones))*freq_classifier_1\n",
    "AUC_2 = (1/(zeros*ones))*freq_classifier_2\n",
    "\n",
    "print(\"AUC classifier 1: {}\\n\".format(AUC_1))\n",
    "print(\"AUC classifier 2: {}\".format(AUC_2))"
   ]
  },
  {
   "cell_type": "markdown",
   "metadata": {},
   "source": [
    "<b>3.3.4)</b>\n",
    "\n",
    "<b>Do the AUC scores indicate that the classifiers are performing better than this baseline?</b>\n",
    "\n",
    "Both classifiers perform better than the random baseline, since the baseline has AUC 0.5 and AUC_1 value is about 0.96 and AUC_2 is 0.77"
   ]
  },
  {
   "cell_type": "markdown",
   "metadata": {},
   "source": [
    "\n",
    "#### 3.3.5\n",
    "(0.25 pts) Using a threshold of 0.5, translate the probability scores to predicted class labels, and compute the accuracy for each of the classifiers.\n",
    "\n",
    "** hint: **\n",
    "\n",
    "*Take a look at https://scikit-learn.org/stable/modules/generated/sklearn.metrics.accuracy_score.html *"
   ]
  },
  {
   "cell_type": "code",
   "execution_count": 26,
   "metadata": {},
   "outputs": [
    {
     "name": "stdout",
     "output_type": "stream",
     "text": [
      "Accuracy classifier 1: 0.8611111111111112\n",
      "\n",
      "Accuracy classifier 2: 0.6944444444444444\n"
     ]
    }
   ],
   "source": [
    "from sklearn.metrics import accuracy_score\n",
    "\n",
    "classifier1_labels = []\n",
    "classifier2_labels = []\n",
    "\n",
    "treshold = 0.5\n",
    "\n",
    "for i in range(len(df[0])):\n",
    "    \n",
    "    # Compare the value classifier 1 to the treshold\n",
    "    if df[1][i] >= 0.5:\n",
    "        classifier1_labels.append(1)\n",
    "    else:\n",
    "        classifier1_labels.append(0) \n",
    "    \n",
    "    # Compare the value classifier 1 to the treshold\n",
    "    if df[2][i] >= 0.5:\n",
    "        classifier2_labels.append(1)\n",
    "    else:\n",
    "        classifier2_labels.append(0)\n",
    "        \n",
    "classifier1_accuracy = accuracy_score(df[0], classifier1_labels)\n",
    "classifier2_accuracy = accuracy_score(df[0], classifier2_labels)\n",
    "\n",
    "print(\"Accuracy classifier 1: {}\\n\".format(classifier1_accuracy))\n",
    "print(\"Accuracy classifier 2: {}\".format(classifier2_accuracy))"
   ]
  },
  {
   "cell_type": "markdown",
   "metadata": {},
   "source": [
    "#### 3.3.6\n",
    "(1 pts) Create the 2x2 table (or array, or list, or dataframe..) of wrong and correct classifications by the first and the second classifier, like in the lecture slides (lecture on model evaluation, part on the sign test). Perform a sign test to test whether the performance of the two classifiers is significantly different at a significance level of 0.05. **If you are not familiar with sign testing, you can read the example provided below.**\n",
    "\n",
    "\n",
    "** hints: **  \n",
    "*As explained in the lecture slides, the sign test is a binomial test on the lower-left ($N_{1<2}$) and upper-right ($N_{1>2}$) elements of the cross table. Unlike in the lecture slides, here you need to perform a two-sided test: $$\\textrm{p-value} = P(W \\leq \\min(N_{1<2},N_{1>2}) \\textrm{ or } W \\geq  \\max(N_{1<2},N_{1>2})$$\n",
    "The function `scipy.stats.binom.cdf` can be used to compute the cumulative density of the binomial distribution.\n",
    "For more information on the sign test, see the included paper by Salzberg (signtest.pdf, in particular section 3.1).*"
   ]
  },
  {
   "cell_type": "code",
   "execution_count": 129,
   "metadata": {},
   "outputs": [],
   "source": [
    "from sklearn.metrics import accuracy_score\n",
    "\n",
    "classifier1_labels = []\n",
    "classifier2_labels = []\n",
    "\n",
    "treshold = 0.5\n",
    "\n",
    "both_correct = 0\n",
    "both_wrong = 0\n",
    "one_correct_two_wrong = 0\n",
    "one_wrong_two_correct = 0\n",
    "\n",
    "for i in range(len(df[0])):\n",
    "    \n",
    "    # Compare the value classifier 1 to the treshold\n",
    "    if df[1][i] >= 0.5:\n",
    "        classifier1_labels.append(1)\n",
    "    else:\n",
    "        classifier1_labels.append(0) \n",
    "    \n",
    "    # Compare the value classifier 1 to the treshold\n",
    "    if df[2][i] >= 0.5:\n",
    "        classifier2_labels.append(1)\n",
    "    else:\n",
    "        classifier2_labels.append(0)\n",
    "        \n",
    "    # Both correct\n",
    "    if df[0][i] == classifier1_labels[i] and df[0][i] == classifier2_labels[i]:\n",
    "        both_correct += 1\n",
    "    \n",
    "    # Both wrong\n",
    "    if df[0][i] != classifier1_labels[i] and df[0][i] != classifier2_labels[i]:\n",
    "        both_wrong += 1\n",
    "    \n",
    "    # One correct two wrong\n",
    "    if df[0][i] == classifier1_labels[i] and df[0][i] != classifier2_labels[i]:\n",
    "        one_correct_two_wrong += 1\n",
    "        \n",
    "    # One wrong two correct\n",
    "    if df[0][i] != classifier1_labels[i] and df[0][i] == classifier2_labels[i]:\n",
    "        one_wrong_two_correct += 1"
   ]
  },
  {
   "cell_type": "code",
   "execution_count": 142,
   "metadata": {},
   "outputs": [
    {
     "name": "stdout",
     "output_type": "stream",
     "text": [
      "The p-value is 0.003\n"
     ]
    }
   ],
   "source": [
    "import numpy as np\n",
    "from scipy.stats import binom\n",
    "\n",
    "# Create 2 x 2 table of wrong and correct classifications\n",
    "table = np.array([[both_correct,one_correct_two_wrong],[one_wrong_two_correct,both_wrong]])\n",
    "\n",
    "# Calculate N\n",
    "N = one_correct_two_wrong + one_wrong_two_correct\n",
    "b = binom(N, 0.5)\n",
    "\n",
    "# Calculate significance\n",
    "p_value = b.cdf(min(one_correct_two_wrong,one_wrong_two_correct)) + (1-b.cdf(max(one_correct_two_wrong,one_wrong_two_correct)-1))\n",
    "print('The p-value is {:.3f}'.format(p_value))"
   ]
  },
  {
   "cell_type": "markdown",
   "metadata": {},
   "source": [
    "<b>3.3.6)</b>\n",
    "\n",
    "According to the performed signed test, there is a significant difference in performance compared to the null hypothesis. The calculated p-value is 0.003 which is smaller than 0.05."
   ]
  },
  {
   "cell_type": "markdown",
   "metadata": {},
   "source": [
    "## Example two-sided sign test\n",
    "\n",
    "Imagine you have a lucky coin, that you are certain does not result in heads 50% of the times you flip it. However, you friend (lets call him *zero_hypothesis*) claims that your coin is just like his random coin. To verify whether this is true, you decide to compare the performance (you are a scientist after all) of your lucky coin resulting in heads to the performance of his random coin resulting in heads with a sign test. How do you do this?\n",
    "\n",
    "First, you collect data. Assume you place 23 bets. During those 23 bets, you both flip your respective coins. It was determined that if one of you flipped head while the other didn't, that person won the bet, and the other person lost. If you both got the same outcome, neither of you won. 1 stands for head, and 0 for tails. These were your results:"
   ]
  },
  {
   "cell_type": "code",
   "execution_count": 1,
   "metadata": {},
   "outputs": [
    {
     "name": "stdout",
     "output_type": "stream",
     "text": [
      "----------lucky | random \n",
      " bet 0      | 1 | 0\n",
      " bet 1      | 1 | 1\n",
      " bet 2      | 1 | 0\n",
      " bet 3      | 0 | 1\n",
      " bet 4      | 1 | 0\n",
      " bet 5      | 1 | 1\n",
      " bet 6      | 1 | 0\n",
      " bet 7      | 1 | 0\n",
      " bet 8      | 1 | 0\n",
      " bet 9      | 0 | 1\n",
      " bet 10     | 1 | 0\n",
      " bet 11     | 1 | 1\n",
      " bet 12     | 1 | 0\n",
      " bet 13     | 1 | 1\n",
      " bet 14     | 0 | 1\n",
      " bet 15     | 1 | 1\n",
      " bet 16     | 1 | 1\n",
      " bet 17     | 0 | 0\n",
      " bet 18     | 1 | 0\n",
      " bet 19     | 1 | 0\n",
      " bet 20     | 1 | 0\n",
      " bet 21     | 0 | 0\n",
      " bet 22     | 1 | 0\n",
      " -----\n",
      "\n"
     ]
    }
   ],
   "source": [
    "import numpy as np\n",
    "from scipy.stats import binom\n",
    "import matplotlib.pyplot as plt\n",
    "\n",
    "#results\n",
    "lucky_coin = np.array([1,1,1,0,1,1,1,1,1,0,1,1,1,1,0,1,1,0,1,1,1,0,1])\n",
    "random_coin= np.array([0,1,0,1,0,1,0,0,0,1,0,1,0,1,1,1,1,0,0,0,0,0,0])\n",
    "\n",
    "print('----------lucky | random \\n',*['bet {:<5}  | {} | {}\\n'.format(t[0],t[1],t[2]) for t in zip(range(0,len(lucky_coin)),lucky_coin,random_coin)],'-----\\n')"
   ]
  },
  {
   "cell_type": "markdown",
   "metadata": {},
   "source": [
    "Now you calculate how often in any pair of outcomes one coin *won*, i.e. one coin flipped to head while the other flipped to tails."
   ]
  },
  {
   "cell_type": "code",
   "execution_count": 2,
   "metadata": {},
   "outputs": [
    {
     "name": "stdout",
     "output_type": "stream",
     "text": [
      "The lucky coin won 12 times, while the random won 3 times.\n"
     ]
    }
   ],
   "source": [
    "N_l = sum((lucky_coin == 1) & (random_coin == 0)) #how often your lucky coin won\n",
    "N_r = sum((lucky_coin == 0) & (random_coin == 1)) #how often the random coin won\n",
    "N = N_l + N_r #how often one coin was a winner\n",
    "print('The lucky coin won {} times, while the random won {} times.'.format(N_l,N_r))"
   ]
  },
  {
   "cell_type": "markdown",
   "metadata": {},
   "source": [
    "You observed 15 times that one coin won. If both coins resulted in heads 50% of the time, like *zero_hypothesis* stated, you'd expect that both coins have 50% chance of being the winner. So the probability distributions for both N_l and N_r should look something like this, assuming that *zero_hypothesis* is right:"
   ]
  },
  {
   "cell_type": "code",
   "execution_count": 3,
   "metadata": {},
   "outputs": [
    {
     "data": {
      "image/png": "[encoded data removed]",
      "text/plain": [
       "<Figure size 432x288 with 1 Axes>"
      ]
     },
     "metadata": {},
     "output_type": "display_data"
    }
   ],
   "source": [
    "b = binom(N,0.5) #N=observations of inequality, p=prob of one coin being better, which is 0.5 according to your H0\n",
    "plt.plot(b.pmf(range(N+1)), '--o',label = 'Probability density')\n",
    "plt.plot(b.cdf(range(N+1)), '--o',label = 'Cumulative distribution')\n",
    "plt.legend()\n",
    "plt.xlabel('Number of times one coin is better than the other')\n",
    "plt.ylabel('Probability')\n",
    "plt.title('Distribution according to H0')\n",
    "plt.show()"
   ]
  },
  {
   "cell_type": "markdown",
   "metadata": {},
   "source": [
    "(Of course this is a discrete probability function, so you're not interested in values between integers.)\n",
    "\n",
    "As you can see, according to *zero_hypothesis*, 7 and 8 are the most likely values for both N_l and N_r. But this is not what you observed in your data. To conclude that *H0* is false, you need to show that your outcome is unlikely under the assumption that *H0* is true: the values you observed are so extreme that these values or more extreme values occur less than 5% of the time (*p-value < 0.05*). So how unlikely is it that one coin is better 12 times or more, and the other is better 3 times or less?\n",
    "\n",
    "It's the sum of the values of the probability density function (pdf or pmf in the python doc) at  0,1,2 and 3, plus the sum of the values of the pdf at 12,13,14 and 15. \n",
    "\n",
    "This is equal to the value of the cumulative distribution function (cdf) at 3, plus 1 minus the value of cdf at 11 (since `1-cdf(11)` represents the probability of observing 12 or bigger)."
   ]
  },
  {
   "cell_type": "code",
   "execution_count": 4,
   "metadata": {},
   "outputs": [
    {
     "name": "stdout",
     "output_type": "stream",
     "text": [
      "The p-value is 0.035\n"
     ]
    }
   ],
   "source": [
    "p_value = b.cdf(min(N_r,N_l)) + (1-b.cdf(max(N_r,N_l)-1))\n",
    "print('The p-value is {:.3f}'.format(p_value))"
   ]
  },
  {
   "cell_type": "markdown",
   "metadata": {},
   "source": [
    "So your observations are very unlikely if *zero_hypothesis* is right. By statistical theory, you can now say that you have significant reason to reject their opinion. Now the hardest part of statistics: convincing your non-scientist friends."
   ]
  }
 ],
 "metadata": {
  "anaconda-cloud": {},
  "kernelspec": {
   "display_name": "Python 3",
   "language": "python",
   "name": "python3"
  },
  "language_info": {
   "codemirror_mode": {
    "name": "ipython",
    "version": 3
   },
   "file_extension": ".py",
   "mimetype": "text/x-python",
   "name": "python",
   "nbconvert_exporter": "python",
   "pygments_lexer": "ipython3",
   "version": "3.7.3"
  }
 },
 "nbformat": 4,
 "nbformat_minor": 1
}
